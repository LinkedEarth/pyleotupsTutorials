{
 "cells": [
  {
   "cell_type": "markdown",
   "id": "d452cfe4-21ed-42b8-9391-8451e222a757",
   "metadata": {},
   "source": [
    "<div style=\"text-align: center\">\n",
    "<img src=\"https://github.com/LinkedEarth/Logos/blob/master/PyleoTUPS/pyleotups_logo.png?raw=true\" alt=\"PyleoTUPS logo\" width=\"400\">\n",
    "</div>\n",
    "\n",
    "# Converting a NOAA dataset into the LiPD format\n",
    "\n",
    "## Authors\n",
    "\n",
    "Deborah Khider\n",
    "<a href=\"https://orcid.org/0000-0001-7501-8430\" target=\"_blank\" rel=\"noopener noreferrer\">\n",
    "  <img src=\"https://orcid.org/sites/default/files/images/orcid_16x16.png\" alt=\"ORCID iD\" style=\"vertical-align: text-bottom;\"/>\n",
    "</a>\n",
    "\n",
    "## Preamble\n",
    "\n",
    "This tutorial showcases how to create a LiPD file from a NOAA dataset.\n",
    "\n",
    "### Goals\n",
    "\n",
    "- Understanding how to get relevant information from NOAA Data Center\n",
    "- Use [PyLiPD](https://pylipd.readthedocs.io/en/latest/index.html) to create a LiPD file from the retrieved information. \n",
    "\n",
    "### Pre-requisites\n",
    "- An understanding of PyLiPD classes and how to create a LiPD file from [this tutorial](https://linked.earth/pylipdTutorials/notebooks/L3_c_create_template.html).\n",
    "\n",
    "### Reading time\n",
    "\n",
    "Let's import our packages!"
   ]
  },
  {
   "cell_type": "code",
   "execution_count": 93,
   "id": "6a2d9f67-c681-4e54-bd78-8d3ede673a67",
   "metadata": {},
   "outputs": [],
   "source": [
    "from pyleotups import Dataset\n",
    "\n",
    "\n",
    "import pylipd.classes.dataset as dataset\n",
    "from pylipd.classes.archivetype import ArchiveTypeConstants, ArchiveType\n",
    "from pylipd.classes.funding import Funding\n",
    "from pylipd.classes.interpretation import Interpretation\n",
    "from pylipd.classes.interpretationvariable import InterpretationVariableConstants, InterpretationVariable\n",
    "from pylipd.classes.location import Location\n",
    "from pylipd.classes.paleodata import PaleoData\n",
    "from pylipd.classes.datatable import DataTable\n",
    "from pylipd.classes.paleounit import PaleoUnitConstants, PaleoUnit\n",
    "from pylipd.classes.paleovariable import PaleoVariableConstants, PaleoVariable\n",
    "from pylipd.classes.person import Person\n",
    "from pylipd.classes.publication import Publication\n",
    "from pylipd.classes.resolution import Resolution\n",
    "from pylipd.classes.variable import Variable\n",
    "from pylipd.classes.model import Model\n",
    "from pylipd.classes.chrondata import ChronData\n",
    "from pylipd.classes.compilation import Compilation\n",
    "\n",
    "from pylipd import LiPD\n",
    "\n",
    "\n",
    "import json\n",
    "\n",
    "import numpy as np\n",
    "import pandas as pd\n",
    "\n",
    "import re"
   ]
  },
  {
   "cell_type": "markdown",
   "id": "c1719629-e58d-4a4c-9772-b57939cf6747",
   "metadata": {},
   "source": [
    "## Demonstration\n",
    "\n",
    "### Querying the NOAA database.\n",
    "\n",
    "The first step is to create a `pyleotups.Dataset` object in which we will store the relevant information"
   ]
  },
  {
   "cell_type": "code",
   "execution_count": 2,
   "id": "c9e2ad87-9cf2-4a52-abd1-49d8d1a9b5da",
   "metadata": {},
   "outputs": [],
   "source": [
    "ds=Dataset()"
   ]
  },
  {
   "cell_type": "markdown",
   "id": "8a106541-76c5-49c4-9707-b54517e830f2",
   "metadata": {},
   "source": [
    "Now that this is done, let's search using the study ID. Here we are interesting in converting the dataset from [Dee et al. (2020)](doi.org/10.1126/science.aax2000), a monthly-resolved coral aragonite oxygen isotope ($\\delta^{18}$O) record from Palmyra Island."
   ]
  },
  {
   "cell_type": "code",
   "execution_count": 3,
   "id": "236f32ad-c2ce-40bf-a440-87970be68bf6",
   "metadata": {},
   "outputs": [
    {
     "name": "stderr",
     "output_type": "stream",
     "text": [
      "Parsing NOAA studies: 100%|█████████████████████| 1/1 [00:00<00:00, 3194.44it/s]\n"
     ]
    },
    {
     "data": {
      "text/html": [
       "<div>\n",
       "<style scoped>\n",
       "    .dataframe tbody tr th:only-of-type {\n",
       "        vertical-align: middle;\n",
       "    }\n",
       "\n",
       "    .dataframe tbody tr th {\n",
       "        vertical-align: top;\n",
       "    }\n",
       "\n",
       "    .dataframe thead th {\n",
       "        text-align: right;\n",
       "    }\n",
       "</style>\n",
       "<table border=\"1\" class=\"dataframe\">\n",
       "  <thead>\n",
       "    <tr style=\"text-align: right;\">\n",
       "      <th></th>\n",
       "      <th>StudyID</th>\n",
       "      <th>XMLID</th>\n",
       "      <th>StudyName</th>\n",
       "      <th>DataType</th>\n",
       "      <th>EarliestYearBP</th>\n",
       "      <th>MostRecentYearBP</th>\n",
       "      <th>EarliestYearCE</th>\n",
       "      <th>MostRecentYearCE</th>\n",
       "      <th>StudyNotes</th>\n",
       "      <th>ScienceKeywords</th>\n",
       "      <th>Investigators</th>\n",
       "      <th>Publications</th>\n",
       "      <th>Sites</th>\n",
       "      <th>Funding</th>\n",
       "    </tr>\n",
       "  </thead>\n",
       "  <tbody>\n",
       "    <tr>\n",
       "      <th>0</th>\n",
       "      <td>27490</td>\n",
       "      <td>67635</td>\n",
       "      <td>Palmyra 860 Year Modern and Fossil Coral Oxyge...</td>\n",
       "      <td>CORALS AND SCLEROSPONGES</td>\n",
       "      <td>804</td>\n",
       "      <td>-56</td>\n",
       "      <td>1146</td>\n",
       "      <td>2006</td>\n",
       "      <td>Monthly-resolved coral aragonite oxygen isotop...</td>\n",
       "      <td>None</td>\n",
       "      <td>Sylvia Dee, Kim Cobb, Julien Emile-Geay, Toby ...</td>\n",
       "      <td>[{'Author': 'Sylvia G. Dee, Kim M. Cobb, Julie...</td>\n",
       "      <td>[[{'DataTableID': '41697', 'DataTableName': 'P...</td>\n",
       "      <td>[{'fundingAgency': 'US National Science Founda...</td>\n",
       "    </tr>\n",
       "  </tbody>\n",
       "</table>\n",
       "</div>"
      ],
      "text/plain": [
       "  StudyID  XMLID                                          StudyName  \\\n",
       "0   27490  67635  Palmyra 860 Year Modern and Fossil Coral Oxyge...   \n",
       "\n",
       "                   DataType  EarliestYearBP  MostRecentYearBP  EarliestYearCE  \\\n",
       "0  CORALS AND SCLEROSPONGES             804               -56            1146   \n",
       "\n",
       "   MostRecentYearCE                                         StudyNotes  \\\n",
       "0              2006  Monthly-resolved coral aragonite oxygen isotop...   \n",
       "\n",
       "  ScienceKeywords                                      Investigators  \\\n",
       "0            None  Sylvia Dee, Kim Cobb, Julien Emile-Geay, Toby ...   \n",
       "\n",
       "                                        Publications  \\\n",
       "0  [{'Author': 'Sylvia G. Dee, Kim M. Cobb, Julie...   \n",
       "\n",
       "                                               Sites  \\\n",
       "0  [[{'DataTableID': '41697', 'DataTableName': 'P...   \n",
       "\n",
       "                                             Funding  \n",
       "0  [{'fundingAgency': 'US National Science Founda...  "
      ]
     },
     "execution_count": 3,
     "metadata": {},
     "output_type": "execute_result"
    }
   ],
   "source": [
    "ds.search_studies(noaa_id=27490)"
   ]
  },
  {
   "cell_type": "markdown",
   "id": "aefc5c51-3967-4bd1-b8e3-673d5fba65d8",
   "metadata": {},
   "source": [
    "Let's get some information about the dataset that we can later use to create the LiPD dataset."
   ]
  },
  {
   "cell_type": "code",
   "execution_count": 4,
   "id": "8dd333a9-881a-4998-add1-c23cda93c3a9",
   "metadata": {},
   "outputs": [
    {
     "data": {
      "text/html": [
       "<div>\n",
       "<style scoped>\n",
       "    .dataframe tbody tr th:only-of-type {\n",
       "        vertical-align: middle;\n",
       "    }\n",
       "\n",
       "    .dataframe tbody tr th {\n",
       "        vertical-align: top;\n",
       "    }\n",
       "\n",
       "    .dataframe thead th {\n",
       "        text-align: right;\n",
       "    }\n",
       "</style>\n",
       "<table border=\"1\" class=\"dataframe\">\n",
       "  <thead>\n",
       "    <tr style=\"text-align: right;\">\n",
       "      <th></th>\n",
       "      <th>StudyID</th>\n",
       "      <th>XMLID</th>\n",
       "      <th>StudyName</th>\n",
       "      <th>DataType</th>\n",
       "      <th>EarliestYearBP</th>\n",
       "      <th>MostRecentYearBP</th>\n",
       "      <th>EarliestYearCE</th>\n",
       "      <th>MostRecentYearCE</th>\n",
       "      <th>StudyNotes</th>\n",
       "      <th>ScienceKeywords</th>\n",
       "      <th>Investigators</th>\n",
       "      <th>Publications</th>\n",
       "      <th>Sites</th>\n",
       "      <th>Funding</th>\n",
       "    </tr>\n",
       "  </thead>\n",
       "  <tbody>\n",
       "    <tr>\n",
       "      <th>0</th>\n",
       "      <td>27490</td>\n",
       "      <td>67635</td>\n",
       "      <td>Palmyra 860 Year Modern and Fossil Coral Oxyge...</td>\n",
       "      <td>CORALS AND SCLEROSPONGES</td>\n",
       "      <td>804</td>\n",
       "      <td>-56</td>\n",
       "      <td>1146</td>\n",
       "      <td>2006</td>\n",
       "      <td>Monthly-resolved coral aragonite oxygen isotop...</td>\n",
       "      <td>None</td>\n",
       "      <td>Sylvia Dee, Kim Cobb, Julien Emile-Geay, Toby ...</td>\n",
       "      <td>[{'Author': 'Sylvia G. Dee, Kim M. Cobb, Julie...</td>\n",
       "      <td>[[{'DataTableID': '41697', 'DataTableName': 'P...</td>\n",
       "      <td>[{'fundingAgency': 'US National Science Founda...</td>\n",
       "    </tr>\n",
       "  </tbody>\n",
       "</table>\n",
       "</div>"
      ],
      "text/plain": [
       "  StudyID  XMLID                                          StudyName  \\\n",
       "0   27490  67635  Palmyra 860 Year Modern and Fossil Coral Oxyge...   \n",
       "\n",
       "                   DataType  EarliestYearBP  MostRecentYearBP  EarliestYearCE  \\\n",
       "0  CORALS AND SCLEROSPONGES             804               -56            1146   \n",
       "\n",
       "   MostRecentYearCE                                         StudyNotes  \\\n",
       "0              2006  Monthly-resolved coral aragonite oxygen isotop...   \n",
       "\n",
       "  ScienceKeywords                                      Investigators  \\\n",
       "0            None  Sylvia Dee, Kim Cobb, Julien Emile-Geay, Toby ...   \n",
       "\n",
       "                                        Publications  \\\n",
       "0  [{'Author': 'Sylvia G. Dee, Kim M. Cobb, Julie...   \n",
       "\n",
       "                                               Sites  \\\n",
       "0  [[{'DataTableID': '41697', 'DataTableName': 'P...   \n",
       "\n",
       "                                             Funding  \n",
       "0  [{'fundingAgency': 'US National Science Founda...  "
      ]
     },
     "execution_count": 4,
     "metadata": {},
     "output_type": "execute_result"
    }
   ],
   "source": [
    "df_summary = ds.get_summary()\n",
    "\n",
    "df_summary"
   ]
  },
  {
   "cell_type": "markdown",
   "id": "42f82e11-a998-45f2-8640-197a313530b2",
   "metadata": {},
   "source": [
    "And some information about the publications:"
   ]
  },
  {
   "cell_type": "code",
   "execution_count": 5,
   "id": "cc4aa713-71ed-4cca-bb6f-1c38ffdf2c45",
   "metadata": {},
   "outputs": [
    {
     "data": {
      "text/html": [
       "<div>\n",
       "<style scoped>\n",
       "    .dataframe tbody tr th:only-of-type {\n",
       "        vertical-align: middle;\n",
       "    }\n",
       "\n",
       "    .dataframe tbody tr th {\n",
       "        vertical-align: top;\n",
       "    }\n",
       "\n",
       "    .dataframe thead th {\n",
       "        text-align: right;\n",
       "    }\n",
       "</style>\n",
       "<table border=\"1\" class=\"dataframe\">\n",
       "  <thead>\n",
       "    <tr style=\"text-align: right;\">\n",
       "      <th></th>\n",
       "      <th>Author</th>\n",
       "      <th>Title</th>\n",
       "      <th>Journal</th>\n",
       "      <th>Year</th>\n",
       "      <th>Volume</th>\n",
       "      <th>Number</th>\n",
       "      <th>Pages</th>\n",
       "      <th>Type</th>\n",
       "      <th>DOI</th>\n",
       "      <th>URL</th>\n",
       "      <th>CitationKey</th>\n",
       "      <th>StudyID</th>\n",
       "      <th>StudyName</th>\n",
       "    </tr>\n",
       "  </thead>\n",
       "  <tbody>\n",
       "    <tr>\n",
       "      <th>0</th>\n",
       "      <td>Sylvia G. Dee, Kim M. Cobb, Julien Emile-Geay,...</td>\n",
       "      <td>No consistent ENSO response to volcanic forcin...</td>\n",
       "      <td>Science</td>\n",
       "      <td>2020</td>\n",
       "      <td>367</td>\n",
       "      <td>6485</td>\n",
       "      <td>1477-1481</td>\n",
       "      <td>publication</td>\n",
       "      <td>10.1126/science.aax2000</td>\n",
       "      <td>http://dx.doi.org/10.1126/science.aax2000</td>\n",
       "      <td>Charles_Consistent_2020_27490</td>\n",
       "      <td>27490</td>\n",
       "      <td>Palmyra 860 Year Modern and Fossil Coral Oxyge...</td>\n",
       "    </tr>\n",
       "  </tbody>\n",
       "</table>\n",
       "</div>"
      ],
      "text/plain": [
       "                                              Author  \\\n",
       "0  Sylvia G. Dee, Kim M. Cobb, Julien Emile-Geay,...   \n",
       "\n",
       "                                               Title  Journal  Year Volume  \\\n",
       "0  No consistent ENSO response to volcanic forcin...  Science  2020    367   \n",
       "\n",
       "  Number      Pages         Type                      DOI  \\\n",
       "0   6485  1477-1481  publication  10.1126/science.aax2000   \n",
       "\n",
       "                                         URL                    CitationKey  \\\n",
       "0  http://dx.doi.org/10.1126/science.aax2000  Charles_Consistent_2020_27490   \n",
       "\n",
       "  StudyID                                          StudyName  \n",
       "0   27490  Palmyra 860 Year Modern and Fossil Coral Oxyge...  "
      ]
     },
     "execution_count": 5,
     "metadata": {},
     "output_type": "execute_result"
    }
   ],
   "source": [
    "bib, df_pub = ds.get_publications()\n",
    "df_pub.head()"
   ]
  },
  {
   "cell_type": "markdown",
   "id": "8ed9ea20-de70-43c6-9917-3f9688b2bdda",
   "metadata": {},
   "source": [
    "Let's get some information about the geographical information:"
   ]
  },
  {
   "cell_type": "code",
   "execution_count": 6,
   "id": "da89f99c-0d0d-4fb6-b74d-adb1cdf92553",
   "metadata": {},
   "outputs": [
    {
     "data": {
      "text/html": [
       "<div>\n",
       "<style scoped>\n",
       "    .dataframe tbody tr th:only-of-type {\n",
       "        vertical-align: middle;\n",
       "    }\n",
       "\n",
       "    .dataframe tbody tr th {\n",
       "        vertical-align: top;\n",
       "    }\n",
       "\n",
       "    .dataframe thead th {\n",
       "        text-align: right;\n",
       "    }\n",
       "</style>\n",
       "<table border=\"1\" class=\"dataframe\">\n",
       "  <thead>\n",
       "    <tr style=\"text-align: right;\">\n",
       "      <th></th>\n",
       "      <th>StudyID</th>\n",
       "      <th>DataType</th>\n",
       "      <th>SiteID</th>\n",
       "      <th>SiteName</th>\n",
       "      <th>LocationName</th>\n",
       "      <th>Latitude</th>\n",
       "      <th>Longitude</th>\n",
       "      <th>MinElevation</th>\n",
       "      <th>MaxElevation</th>\n",
       "    </tr>\n",
       "  </thead>\n",
       "  <tbody>\n",
       "    <tr>\n",
       "      <th>0</th>\n",
       "      <td>27490</td>\n",
       "      <td>CORALS AND SCLEROSPONGES</td>\n",
       "      <td>1900</td>\n",
       "      <td>Palmyra Island</td>\n",
       "      <td>Ocean&gt;Pacific Ocean&gt;Central Pacific Ocean</td>\n",
       "      <td>5.8664</td>\n",
       "      <td>-162.12</td>\n",
       "      <td>-9</td>\n",
       "      <td>-9</td>\n",
       "    </tr>\n",
       "  </tbody>\n",
       "</table>\n",
       "</div>"
      ],
      "text/plain": [
       "  StudyID                  DataType SiteID        SiteName  \\\n",
       "0   27490  CORALS AND SCLEROSPONGES   1900  Palmyra Island   \n",
       "\n",
       "                                LocationName Latitude Longitude MinElevation  \\\n",
       "0  Ocean>Pacific Ocean>Central Pacific Ocean   5.8664   -162.12           -9   \n",
       "\n",
       "  MaxElevation  \n",
       "0           -9  "
      ]
     },
     "execution_count": 6,
     "metadata": {},
     "output_type": "execute_result"
    }
   ],
   "source": [
    "df_geo = ds.get_geo()\n",
    "df_geo"
   ]
  },
  {
   "cell_type": "markdown",
   "id": "6f03342a-b4d5-43dd-89b4-d67ac49f2594",
   "metadata": {},
   "source": [
    "Let's get some information about the funding:"
   ]
  },
  {
   "cell_type": "code",
   "execution_count": 7,
   "id": "f9edb16b-97a3-4113-94a0-a860abe1c2e1",
   "metadata": {},
   "outputs": [
    {
     "data": {
      "text/html": [
       "<div>\n",
       "<style scoped>\n",
       "    .dataframe tbody tr th:only-of-type {\n",
       "        vertical-align: middle;\n",
       "    }\n",
       "\n",
       "    .dataframe tbody tr th {\n",
       "        vertical-align: top;\n",
       "    }\n",
       "\n",
       "    .dataframe thead th {\n",
       "        text-align: right;\n",
       "    }\n",
       "</style>\n",
       "<table border=\"1\" class=\"dataframe\">\n",
       "  <thead>\n",
       "    <tr style=\"text-align: right;\">\n",
       "      <th></th>\n",
       "      <th>StudyID</th>\n",
       "      <th>StudyName</th>\n",
       "      <th>FundingAgency</th>\n",
       "      <th>FundingGrant</th>\n",
       "    </tr>\n",
       "  </thead>\n",
       "  <tbody>\n",
       "    <tr>\n",
       "      <th>0</th>\n",
       "      <td>27490</td>\n",
       "      <td>Palmyra 860 Year Modern and Fossil Coral Oxyge...</td>\n",
       "      <td>US National Science Foundation</td>\n",
       "      <td>MGG 0752091, 1502832, 1836645; EAR-1347213</td>\n",
       "    </tr>\n",
       "  </tbody>\n",
       "</table>\n",
       "</div>"
      ],
      "text/plain": [
       "  StudyID                                          StudyName  \\\n",
       "0   27490  Palmyra 860 Year Modern and Fossil Coral Oxyge...   \n",
       "\n",
       "                    FundingAgency                                FundingGrant  \n",
       "0  US National Science Foundation  MGG 0752091, 1502832, 1836645; EAR-1347213  "
      ]
     },
     "execution_count": 7,
     "metadata": {},
     "output_type": "execute_result"
    }
   ],
   "source": [
    "df_fund = ds.get_funding()\n",
    "df_fund"
   ]
  },
  {
   "cell_type": "markdown",
   "id": "0973d515-569c-4f64-b3a6-4619694912cf",
   "metadata": {},
   "source": [
    "Finally, let's get information about the data tables present in the file:"
   ]
  },
  {
   "cell_type": "code",
   "execution_count": 8,
   "id": "80c5ca9b-3426-43ed-a26b-5a984cd5157e",
   "metadata": {},
   "outputs": [
    {
     "data": {
      "text/html": [
       "<div>\n",
       "<style scoped>\n",
       "    .dataframe tbody tr th:only-of-type {\n",
       "        vertical-align: middle;\n",
       "    }\n",
       "\n",
       "    .dataframe tbody tr th {\n",
       "        vertical-align: top;\n",
       "    }\n",
       "\n",
       "    .dataframe thead th {\n",
       "        text-align: right;\n",
       "    }\n",
       "</style>\n",
       "<table border=\"1\" class=\"dataframe\">\n",
       "  <thead>\n",
       "    <tr style=\"text-align: right;\">\n",
       "      <th></th>\n",
       "      <th>DataTableID</th>\n",
       "      <th>DataTableName</th>\n",
       "      <th>TimeUnit</th>\n",
       "      <th>FileURL</th>\n",
       "      <th>Variables</th>\n",
       "      <th>FileDescription</th>\n",
       "      <th>TotalFilesAvailable</th>\n",
       "      <th>SiteID</th>\n",
       "      <th>SiteName</th>\n",
       "      <th>LocationName</th>\n",
       "      <th>Latitude</th>\n",
       "      <th>Longitude</th>\n",
       "      <th>MinElevation</th>\n",
       "      <th>MaxElevation</th>\n",
       "      <th>StudyID</th>\n",
       "      <th>StudyName</th>\n",
       "    </tr>\n",
       "  </thead>\n",
       "  <tbody>\n",
       "    <tr>\n",
       "      <th>0</th>\n",
       "      <td>41697</td>\n",
       "      <td>Palmyra2020d18O</td>\n",
       "      <td>CE</td>\n",
       "      <td>https://www.ncei.noaa.gov/pub/data/paleo/coral...</td>\n",
       "      <td>[age, d18O]</td>\n",
       "      <td>NOAA Template File</td>\n",
       "      <td>1</td>\n",
       "      <td>1900</td>\n",
       "      <td>Palmyra Island</td>\n",
       "      <td>Ocean&gt;Pacific Ocean&gt;Central Pacific Ocean</td>\n",
       "      <td>5.8664</td>\n",
       "      <td>-162.12</td>\n",
       "      <td>-9</td>\n",
       "      <td>-9</td>\n",
       "      <td>27490</td>\n",
       "      <td>Palmyra 860 Year Modern and Fossil Coral Oxyge...</td>\n",
       "    </tr>\n",
       "  </tbody>\n",
       "</table>\n",
       "</div>"
      ],
      "text/plain": [
       "  DataTableID    DataTableName TimeUnit  \\\n",
       "0       41697  Palmyra2020d18O       CE   \n",
       "\n",
       "                                             FileURL    Variables  \\\n",
       "0  https://www.ncei.noaa.gov/pub/data/paleo/coral...  [age, d18O]   \n",
       "\n",
       "      FileDescription  TotalFilesAvailable SiteID        SiteName  \\\n",
       "0  NOAA Template File                    1   1900  Palmyra Island   \n",
       "\n",
       "                                LocationName Latitude Longitude MinElevation  \\\n",
       "0  Ocean>Pacific Ocean>Central Pacific Ocean   5.8664   -162.12           -9   \n",
       "\n",
       "  MaxElevation StudyID                                          StudyName  \n",
       "0           -9   27490  Palmyra 860 Year Modern and Fossil Coral Oxyge...  "
      ]
     },
     "execution_count": 8,
     "metadata": {},
     "output_type": "execute_result"
    }
   ],
   "source": [
    "df_tables = ds.get_tables()\n",
    "df_tables"
   ]
  },
  {
   "cell_type": "markdown",
   "id": "a6432ddb-4007-42ae-a6d1-4a754b084825",
   "metadata": {},
   "source": [
    "There is only one table present, let's put it into a Pandas DataFrame:"
   ]
  },
  {
   "cell_type": "code",
   "execution_count": 9,
   "id": "f3d23191-2603-4b8e-86de-86739bffaffe",
   "metadata": {},
   "outputs": [],
   "source": [
    "dfs = ds.get_data(dataTableIDs=\"41697\")"
   ]
  },
  {
   "cell_type": "code",
   "execution_count": 10,
   "id": "d1fcaa6f-13e9-4616-ae62-cbee72767836",
   "metadata": {},
   "outputs": [
    {
     "data": {
      "text/html": [
       "<div>\n",
       "<style scoped>\n",
       "    .dataframe tbody tr th:only-of-type {\n",
       "        vertical-align: middle;\n",
       "    }\n",
       "\n",
       "    .dataframe tbody tr th {\n",
       "        vertical-align: top;\n",
       "    }\n",
       "\n",
       "    .dataframe thead th {\n",
       "        text-align: right;\n",
       "    }\n",
       "</style>\n",
       "<table border=\"1\" class=\"dataframe\">\n",
       "  <thead>\n",
       "    <tr style=\"text-align: right;\">\n",
       "      <th></th>\n",
       "      <th>age</th>\n",
       "      <th>d18O</th>\n",
       "    </tr>\n",
       "  </thead>\n",
       "  <tbody>\n",
       "    <tr>\n",
       "      <th>0</th>\n",
       "      <td>1146.375</td>\n",
       "      <td>-4.749</td>\n",
       "    </tr>\n",
       "    <tr>\n",
       "      <th>1</th>\n",
       "      <td>1146.4583</td>\n",
       "      <td>-4.672</td>\n",
       "    </tr>\n",
       "    <tr>\n",
       "      <th>2</th>\n",
       "      <td>1146.5417</td>\n",
       "      <td>-4.724</td>\n",
       "    </tr>\n",
       "    <tr>\n",
       "      <th>3</th>\n",
       "      <td>1146.625</td>\n",
       "      <td>-4.717</td>\n",
       "    </tr>\n",
       "    <tr>\n",
       "      <th>4</th>\n",
       "      <td>1146.7083</td>\n",
       "      <td>-4.8947</td>\n",
       "    </tr>\n",
       "  </tbody>\n",
       "</table>\n",
       "</div>"
      ],
      "text/plain": [
       "         age     d18O\n",
       "0   1146.375   -4.749\n",
       "1  1146.4583   -4.672\n",
       "2  1146.5417   -4.724\n",
       "3   1146.625   -4.717\n",
       "4  1146.7083  -4.8947"
      ]
     },
     "execution_count": 10,
     "metadata": {},
     "output_type": "execute_result"
    }
   ],
   "source": [
    "dfs[0].head()"
   ]
  },
  {
   "cell_type": "markdown",
   "id": "122d3918-5e63-42c4-ad08-a9239bd02773",
   "metadata": {},
   "source": [
    "We need to coerce the values to numeric:"
   ]
  },
  {
   "cell_type": "code",
   "execution_count": 77,
   "id": "580e0e9a-a9a4-4ccb-adba-b5741906d2c3",
   "metadata": {},
   "outputs": [],
   "source": [
    "df_data = dfs[0].apply(pd.to_numeric, errors='coerce')"
   ]
  },
  {
   "cell_type": "markdown",
   "id": "b2147046-3672-4441-82c6-ba9c3cd35459",
   "metadata": {},
   "source": [
    "And let's get some variable information:"
   ]
  },
  {
   "cell_type": "code",
   "execution_count": 11,
   "id": "e14a570a-a74c-4946-98c9-7bae76ed98f1",
   "metadata": {},
   "outputs": [
    {
     "data": {
      "text/html": [
       "<div>\n",
       "<style scoped>\n",
       "    .dataframe tbody tr th:only-of-type {\n",
       "        vertical-align: middle;\n",
       "    }\n",
       "\n",
       "    .dataframe tbody tr th {\n",
       "        vertical-align: top;\n",
       "    }\n",
       "\n",
       "    .dataframe thead th {\n",
       "        text-align: right;\n",
       "    }\n",
       "</style>\n",
       "<table border=\"1\" class=\"dataframe\">\n",
       "  <thead>\n",
       "    <tr style=\"text-align: right;\">\n",
       "      <th></th>\n",
       "      <th>StudyID</th>\n",
       "      <th>SiteID</th>\n",
       "      <th>FileURL</th>\n",
       "      <th>VariableName</th>\n",
       "      <th>cvDataType</th>\n",
       "      <th>cvWhat</th>\n",
       "      <th>cvMaterial</th>\n",
       "      <th>cvError</th>\n",
       "      <th>cvUnit</th>\n",
       "      <th>cvSeasonality</th>\n",
       "      <th>cvDetail</th>\n",
       "      <th>cvMethod</th>\n",
       "      <th>cvAdditionalInfo</th>\n",
       "      <th>cvFormat</th>\n",
       "      <th>cvShortName</th>\n",
       "    </tr>\n",
       "    <tr>\n",
       "      <th>DataTableID</th>\n",
       "      <th></th>\n",
       "      <th></th>\n",
       "      <th></th>\n",
       "      <th></th>\n",
       "      <th></th>\n",
       "      <th></th>\n",
       "      <th></th>\n",
       "      <th></th>\n",
       "      <th></th>\n",
       "      <th></th>\n",
       "      <th></th>\n",
       "      <th></th>\n",
       "      <th></th>\n",
       "      <th></th>\n",
       "      <th></th>\n",
       "    </tr>\n",
       "  </thead>\n",
       "  <tbody>\n",
       "    <tr>\n",
       "      <th>41697</th>\n",
       "      <td>27490</td>\n",
       "      <td>1900</td>\n",
       "      <td>https://www.ncei.noaa.gov/pub/data/paleo/coral...</td>\n",
       "      <td>age</td>\n",
       "      <td>CORALS AND SCLEROSPONGES</td>\n",
       "      <td>age variable&gt;age</td>\n",
       "      <td>None</td>\n",
       "      <td>None</td>\n",
       "      <td>time unit&gt;age unit&gt;year Common Era</td>\n",
       "      <td>None</td>\n",
       "      <td>None</td>\n",
       "      <td>None</td>\n",
       "      <td>None</td>\n",
       "      <td>Numeric</td>\n",
       "      <td>age</td>\n",
       "    </tr>\n",
       "    <tr>\n",
       "      <th>41697</th>\n",
       "      <td>27490</td>\n",
       "      <td>1900</td>\n",
       "      <td>https://www.ncei.noaa.gov/pub/data/paleo/coral...</td>\n",
       "      <td>d18O</td>\n",
       "      <td>CORALS AND SCLEROSPONGES</td>\n",
       "      <td>chemical composition&gt;isotope&gt;isotope ratio&gt;del...</td>\n",
       "      <td>biological material&gt;organism&gt;coral&gt;Porites sp....</td>\n",
       "      <td>None</td>\n",
       "      <td>concentration unit&gt;parts per notation unit&gt;par...</td>\n",
       "      <td>None</td>\n",
       "      <td>None</td>\n",
       "      <td>laboratory method&gt;spectroscopy&gt;mass spectromet...</td>\n",
       "      <td>None</td>\n",
       "      <td>Numeric</td>\n",
       "      <td>d18O</td>\n",
       "    </tr>\n",
       "  </tbody>\n",
       "</table>\n",
       "</div>"
      ],
      "text/plain": [
       "            StudyID SiteID                                            FileURL  \\\n",
       "DataTableID                                                                     \n",
       "41697         27490   1900  https://www.ncei.noaa.gov/pub/data/paleo/coral...   \n",
       "41697         27490   1900  https://www.ncei.noaa.gov/pub/data/paleo/coral...   \n",
       "\n",
       "            VariableName                cvDataType  \\\n",
       "DataTableID                                          \n",
       "41697                age  CORALS AND SCLEROSPONGES   \n",
       "41697               d18O  CORALS AND SCLEROSPONGES   \n",
       "\n",
       "                                                        cvWhat  \\\n",
       "DataTableID                                                      \n",
       "41697                                         age variable>age   \n",
       "41697        chemical composition>isotope>isotope ratio>del...   \n",
       "\n",
       "                                                    cvMaterial cvError  \\\n",
       "DataTableID                                                              \n",
       "41697                                                     None    None   \n",
       "41697        biological material>organism>coral>Porites sp....    None   \n",
       "\n",
       "                                                        cvUnit cvSeasonality  \\\n",
       "DataTableID                                                                    \n",
       "41697                       time unit>age unit>year Common Era          None   \n",
       "41697        concentration unit>parts per notation unit>par...          None   \n",
       "\n",
       "            cvDetail                                           cvMethod  \\\n",
       "DataTableID                                                               \n",
       "41697           None                                               None   \n",
       "41697           None  laboratory method>spectroscopy>mass spectromet...   \n",
       "\n",
       "            cvAdditionalInfo cvFormat cvShortName  \n",
       "DataTableID                                        \n",
       "41697                   None  Numeric         age  \n",
       "41697                   None  Numeric        d18O  "
      ]
     },
     "execution_count": 11,
     "metadata": {},
     "output_type": "execute_result"
    }
   ],
   "source": [
    "df_var = ds.get_variables(dataTableIDs=\"41697\")\n",
    "df_var"
   ]
  },
  {
   "cell_type": "markdown",
   "id": "f65cd3ac-7f53-4b26-8d0e-2e25e3f06c56",
   "metadata": {},
   "source": [
    "Now that we have all the necessary information, let's convert into a LiPD format!"
   ]
  },
  {
   "attachments": {},
   "cell_type": "markdown",
   "id": "db69b207-4ca7-4c39-badd-c9cd04c0732f",
   "metadata": {},
   "source": [
    "### Converting to a LiPD-formatted dataset\n",
    "\n",
    "#### Root Metadata\n",
    "\n",
    "Let's start by created a [`pylipd.Dataset`](https://pylipd.readthedocs.io/en/latest/api.html#pylipd.classes.dataset.Dataset) object: \n",
    "\n"
   ]
  },
  {
   "cell_type": "code",
   "execution_count": null,
   "id": "f0c14bfb",
   "metadata": {},
   "outputs": [],
   "source": [
    "dsl = dataset.Dataset()"
   ]
  },
  {
   "cell_type": "markdown",
   "id": "c72fb3a7-8987-4fa3-bf45-419a3a555542",
   "metadata": {},
   "source": [
    "Let's add root metadata such as the name of the dataset, type of archive and datasetID:"
   ]
  },
  {
   "cell_type": "code",
   "execution_count": null,
   "id": "c9866429-6d3f-4cc4-955d-a67035fbada7",
   "metadata": {},
   "outputs": [],
   "source": [
    "dsl.setName('Palmyra.Dee.2020')\n",
    "archiveType = ArchiveType.from_synonym('Coral')\n",
    "dsl.setArchiveType(ArchiveType)\n",
    "dsl.setOriginalDataUrl('https://www.ncei.noaa.gov/pub/data/paleo/coral/east_pacific/palmyra2020d18o.txt')\n",
    "dsl.setDatasetId('DP2020PC')"
   ]
  },
  {
   "cell_type": "markdown",
   "id": "7a9dd1d0-27c4-4c8b-b881-5720eae99484",
   "metadata": {},
   "source": [
    "Let's add the invrstigators of the study, which are found in the `df_summary`. To do so, we need to create a [`Person object`](https://pylipd.readthedocs.io/en/latest/api.html#pylipd.classes.publication.Person):"
   ]
  },
  {
   "cell_type": "code",
   "execution_count": 24,
   "id": "2171824c-de82-46e8-b706-fd924bee3cd2",
   "metadata": {},
   "outputs": [],
   "source": [
    "def extract_last_name_and_initials(full_name):\n",
    "    parts = full_name.split()\n",
    "    last_name = parts[-1]\n",
    "    initials = '.'.join([p[0] for p in parts[:-1]]) + '.'\n",
    "    return last_name, initials\n",
    "\n",
    "\n",
    "authors = df_summary['Investigators'].to_list()[0]\n",
    "\n",
    "# Step 1: Split the string by commas\n",
    "parts = authors.split(',')\n",
    "\n",
    "# Prepare a list to hold the formatted names\n",
    "investigators = []\n",
    "\n",
    "# Step 2: Iterate over the parts to process each\n",
    "for i in parts:  # Step by 2 since each name and initial are next to each other\n",
    "    last_name,initial = extract_last_name_and_initials(i)\n",
    "    person = Person() # create the Person object\n",
    "    person.setName(f\"{last_name}, {initial}\")\n",
    "    investigators.append(person)\n",
    "\n",
    "# Step 3: Store the list of Persons into the ds object\n",
    "dsl.setInvestigators(investigators)"
   ]
  },
  {
   "cell_type": "markdown",
   "id": "6961324f-c66b-40dd-b9e2-2e10211a97af",
   "metadata": {},
   "source": [
    "#### Publication Metadata\n",
    "\n",
    "Let's add a publication object to our dataset from the information in `df_pub`:"
   ]
  },
  {
   "cell_type": "code",
   "execution_count": 26,
   "id": "f337eb7f-36ad-4634-b1bc-50c607e3f8d6",
   "metadata": {},
   "outputs": [],
   "source": [
    "pub = Publication()"
   ]
  },
  {
   "cell_type": "code",
   "execution_count": 27,
   "id": "6f1b20b4-b196-44de-b322-091937d017ce",
   "metadata": {},
   "outputs": [],
   "source": [
    "# Let's start with the authors\n",
    "\n",
    "authors = df_pub['Author'].to_list()[0]\n",
    "\n",
    "# Step 1: Split the string by commas\n",
    "parts = authors.split(',')\n",
    "\n",
    "# Prepare a list to hold the formatted names\n",
    "investigators = []\n",
    "\n",
    "# Step 2: Iterate over the parts to process each\n",
    "for i in parts:  # Step by 2 since each name and initial are next to each other\n",
    "    last_name,initial = extract_last_name_and_initials(i)\n",
    "    person = Person() # create the Person object\n",
    "    person.setName(f\"{last_name}, {initial}\")\n",
    "    investigators.append(person)\n",
    "\n",
    "# Step 3: Store the list of Persons into the ds object\n",
    "pub.setAuthors(investigators)"
   ]
  },
  {
   "cell_type": "markdown",
   "id": "94ea0c6c-fb05-49c6-b856-b3315417f7b2",
   "metadata": {},
   "source": [
    "Let's get the rest of the information:"
   ]
  },
  {
   "cell_type": "code",
   "execution_count": 37,
   "id": "62f6fe37-af7b-4097-9602-595172cd39bc",
   "metadata": {},
   "outputs": [],
   "source": [
    "pub.setTitle(df_pub['Title'].iloc[0])\n",
    "pub.setJournal(df_pub['Journal'].iloc[0])\n",
    "pub.setYear(int(df_pub['Year'].iloc[0]))\n",
    "pub.setVolume(str(df_pub['Volume'].iloc[0]))\n",
    "pub.setPages(str(df_pub['Pages'].iloc[0]))\n",
    "pub.setDOI(df_pub['DOI'].iloc[0])\n",
    "pub.setUrls([df_pub['URL'].iloc[0]])\n",
    "pub.setCiteKey(df_pub['CitationKey'].iloc[0])"
   ]
  },
  {
   "cell_type": "markdown",
   "id": "68a31747-3055-473e-845d-cc94f03cfaf6",
   "metadata": {},
   "source": [
    "Let's add our publication objet to the dataset:"
   ]
  },
  {
   "cell_type": "code",
   "execution_count": 39,
   "id": "4ab1aeeb-f742-416a-8525-22c12f527783",
   "metadata": {},
   "outputs": [],
   "source": [
    "dsl.setPublications([pub])"
   ]
  },
  {
   "cell_type": "markdown",
   "id": "859cec06-a216-4294-94b3-7108514d8033",
   "metadata": {},
   "source": [
    "#### Funding Metadata\n",
    "\n",
    "Let's add information about the funding from `df_fund`. First let's grab the names of all the grants. "
   ]
  },
  {
   "cell_type": "code",
   "execution_count": 48,
   "id": "ad594404-a16e-42e7-8cea-a9ee144af6ac",
   "metadata": {},
   "outputs": [
    {
     "data": {
      "text/plain": [
       "['MGG-0752091', 'MGG-1502832', 'MGG-1836645', 'EAR-1347213']"
      ]
     },
     "execution_count": 48,
     "metadata": {},
     "output_type": "execute_result"
    }
   ],
   "source": [
    "def parse_grants(grant_string):\n",
    "    result = []\n",
    "    # Split different grant groups using semicolon\n",
    "    groups = grant_string.split(';')\n",
    "    \n",
    "    for group in groups:\n",
    "        group = group.strip()\n",
    "        # Match prefix followed by space or hyphen, then numbers\n",
    "        match = re.match(r'([A-Z]{3})[\\s-]+(.+)', group)\n",
    "        if match:\n",
    "            prefix = match.group(1)\n",
    "            number_part = match.group(2)\n",
    "            numbers = re.findall(r'\\d+', number_part)\n",
    "            result.extend([f'{prefix}-{num}' for num in numbers])\n",
    "    \n",
    "    return result\n",
    "\n",
    "\n",
    "grants = parse_grants(df_fund['FundingGrant'].iloc[0])\n",
    "grants"
   ]
  },
  {
   "cell_type": "markdown",
   "id": "b85302a0-bc8a-4f16-8d0e-43b197d3b25e",
   "metadata": {},
   "source": [
    "Let's create a [`Funding` object](https://pylipd.readthedocs.io/en/latest/api.html#pylipd.classes.funding.Funding) and add it to the `Dataset`: "
   ]
  },
  {
   "cell_type": "code",
   "execution_count": 49,
   "id": "910a1774-c152-4909-ba96-1c40ab8143d0",
   "metadata": {},
   "outputs": [],
   "source": [
    "fund = Funding()\n",
    "fund.setFundingAgency(df_fund['FundingAgency'].iloc[0])\n",
    "fund.setGrants(grants)                "
   ]
  },
  {
   "cell_type": "code",
   "execution_count": 50,
   "id": "94554bc9-a175-4653-81f9-ed0d3cddc464",
   "metadata": {},
   "outputs": [],
   "source": [
    "dsl.setFundings([fund])"
   ]
  },
  {
   "cell_type": "markdown",
   "id": "93c88738-e2d9-4cbf-afa9-dcd1b68418a7",
   "metadata": {},
   "source": [
    "#### Geographic Metadata\n",
    "\n",
    "Let's add information about the location associated with the dataset from `df_geo`. To do so, we need to create a [`Location` object](https://pylipd.readthedocs.io/en/latest/api.html#pylipd.classes.location.Location):"
   ]
  },
  {
   "cell_type": "code",
   "execution_count": 51,
   "id": "37556b81-d9b4-4405-a93d-05a4bf6f0942",
   "metadata": {},
   "outputs": [],
   "source": [
    "loc = Location()"
   ]
  },
  {
   "cell_type": "code",
   "execution_count": 53,
   "id": "9e8f98c1-a3dd-470d-82c7-b594a1d2f0e7",
   "metadata": {},
   "outputs": [],
   "source": [
    "loc.setLatitude(df_geo['Latitude'].iloc[0])\n",
    "loc.setLongitude(df_geo['Longitude'].iloc[0])\n",
    "loc.setElevation(df_geo['MinElevation'].iloc[0])\n",
    "loc.setSiteName(df_geo['SiteName'].iloc[0])\n",
    "loc.setLocationName(df_geo['LocationName'].iloc[0])"
   ]
  },
  {
   "cell_type": "code",
   "execution_count": 98,
   "id": "734c17d6-2868-4d9f-be3c-61e11af77b10",
   "metadata": {},
   "outputs": [],
   "source": [
    "dsl.setLocation(loc)"
   ]
  },
  {
   "cell_type": "markdown",
   "id": "22c97b56-3644-4178-a6f8-a7eb245348b5",
   "metadata": {},
   "source": [
    "#### PaleoData Metadata\n",
    "\n",
    "Let's enter the information relating to the paleoData. The data itself is stored in `df_data` while the metadata information about the variables is in `df_var`. Let's first create our [`PaleoData` object](https://pylipd.readthedocs.io/en/latest/api.html#pylipd.classes.paleodata.PaleoData). "
   ]
  },
  {
   "cell_type": "code",
   "execution_count": 54,
   "id": "4d667c07-ebf0-401f-8272-98ccc6379a19",
   "metadata": {},
   "outputs": [],
   "source": [
    "paleodata = PaleoData()"
   ]
  },
  {
   "cell_type": "markdown",
   "id": "c9c7bdfa-87e1-4e90-8d9a-6b634f0c9ab5",
   "metadata": {},
   "source": [
    "Our next step is to create measurement tables in this object. To do so, we can use the [`DataTable` object](https://pylipd.readthedocs.io/en/latest/api.html#pylipd.classes.datatable.DataTable):"
   ]
  },
  {
   "cell_type": "code",
   "execution_count": 55,
   "id": "ce6b0420-8d05-4454-a66b-3e5ed1fe8427",
   "metadata": {},
   "outputs": [],
   "source": [
    "table = DataTable()"
   ]
  },
  {
   "cell_type": "markdown",
   "id": "3f14d668-ef3c-4118-b700-50262f866e0a",
   "metadata": {},
   "source": [
    "Now let’s add some information about the table such as the name and the value use for missin values in the data:"
   ]
  },
  {
   "cell_type": "code",
   "execution_count": 56,
   "id": "e60b82a5-db15-41ba-a7a2-d473eafe972f",
   "metadata": {},
   "outputs": [],
   "source": [
    "table.setFileName(\"paleo0measurement0.csv\")\n",
    "table.setMissingValue(\"NaN\")"
   ]
  },
  {
   "cell_type": "markdown",
   "id": "1f214a6b-2e2d-494c-9901-0ce42dea0a62",
   "metadata": {},
   "source": [
    "The next step is to add columns to our table. In other words, we need to create some variables.\n",
    "\n",
    "In LiPD, each variable is also given a unique ID. The function below generates one:"
   ]
  },
  {
   "cell_type": "code",
   "execution_count": 65,
   "id": "0c3d07b9-bd96-4a34-8fd1-a2637d9efc14",
   "metadata": {},
   "outputs": [],
   "source": [
    "import uuid\n",
    "\n",
    "def generate_unique_id(prefix='CPD'):\n",
    "    # Generate a random UUID\n",
    "    random_uuid = str(uuid.uuid4()).replace('-','')  # Generates a random UUID.\n",
    "    \n",
    "    # Convert UUID format to the specific format we need\n",
    "    # UUID is usually in the form '1e2a2846-2048-480b-9ec6-674daef472bd' so we slice and insert accordingly\n",
    "    id_str = str(random_uuid)\n",
    "    formatted_id = f\"{prefix}-{id_str[:15]}\"\n",
    "    \n",
    "    return formatted_id"
   ]
  },
  {
   "cell_type": "markdown",
   "id": "923c910c-dfef-405e-be91-b2fee5cbb0dd",
   "metadata": {},
   "source": [
    "Since variable names and units are controlled in LiPD, let's see if we can get synonyms before we proceed. Let's start with the standard variable name:"
   ]
  },
  {
   "cell_type": "code",
   "execution_count": 68,
   "id": "40778626-0239-4893-9ef8-c0dc790093a4",
   "metadata": {},
   "outputs": [
    {
     "data": {
      "text/plain": [
       "{'age': 'age', 'd18O': 'd18O'}"
      ]
     },
     "execution_count": 68,
     "metadata": {},
     "output_type": "execute_result"
    }
   ],
   "source": [
    "check_names = {}\n",
    "for index, row in df_var.iterrows():\n",
    "    check_names[row['VariableName']]= PaleoVariable.from_synonym(row['VariableName']).label\n",
    "\n",
    "check_names"
   ]
  },
  {
   "cell_type": "markdown",
   "id": "a8d6f276-a7c3-4750-8742-5507d4f68faf",
   "metadata": {},
   "source": [
    "This looks good, let's have a look at the units:"
   ]
  },
  {
   "cell_type": "code",
   "execution_count": 72,
   "id": "229f3b4e-57cf-493f-9d94-b6bb28b4ab7d",
   "metadata": {},
   "outputs": [
    {
     "data": {
      "text/plain": [
       "{'year Common Era': 'yr AD', 'per mil VPDB': None}"
      ]
     },
     "execution_count": 72,
     "metadata": {},
     "output_type": "execute_result"
    }
   ],
   "source": [
    "check_units = {}\n",
    "for index, row in df_var.iterrows():\n",
    "    try:\n",
    "        unit = row['cvUnit'].split('>')[-1]\n",
    "        check_units[unit]= PaleoUnit.from_synonym(unit).label\n",
    "    except:\n",
    "        unit = row['cvUnit'].split('>')[-1]\n",
    "        check_units[unit]= None\n",
    "\n",
    "check_units"
   ]
  },
  {
   "cell_type": "markdown",
   "id": "1ffa4025-5419-454c-9757-a9d9aac27980",
   "metadata": {},
   "source": [
    "The “per mil VPDB” unit is not recognized automatically (not in the thesaurus). Let’s have a look at the [standard unit names](https://linked.earth/pylipdTutorials/notebooks/L3_c_create_template.html#) and see if we can manually select one that will match.\n",
    "\n",
    "The [permil](https://lipdverse.org/vocabulary/paleodata_units/#permil) entry will match, so let’s use this."
   ]
  },
  {
   "cell_type": "code",
   "execution_count": 95,
   "id": "0d2c9b61-344a-4c11-a0ad-493ffd4bb203",
   "metadata": {},
   "outputs": [
    {
     "name": "stdout",
     "output_type": "stream",
     "text": [
      "pass\n"
     ]
    }
   ],
   "source": [
    "variables = []\n",
    "\n",
    "# Resolution\n",
    "res = df_data.iloc[:, 1].diff()[1:].to_numpy()\n",
    "Res = Resolution() # create a Resolution object - it will be the same for all variables since it is based on time\n",
    "Res.setMinValue(np.min(res))\n",
    "Res.setMaxValue(np.max(res))\n",
    "Res.setMeanValue(np.mean(res))\n",
    "Res.setMedianValue(np.median(res))\n",
    "from pylipd.globals.urls import UNITSURL\n",
    "mynewunit = PaleoUnit(f\"{UNITSURL}#year\", \"year\")\n",
    "Res.setUnits(mynewunit)\n",
    "\n",
    "# Compilation\n",
    "comp = Compilation() # create a compilation object\n",
    "comp.setName('Pages2kTemperature')\n",
    "comp.setVersion('2_2_0')\n",
    "\n",
    "counter = 0\n",
    "\n",
    "for index, row in df_var.iterrows():\n",
    "    var = Variable()\n",
    "    var.setName(row['VariableName']) # name of the variable\n",
    "    # Now let's do the standard name\n",
    "    var.setStandardVariable(PaleoVariable.from_synonym(row['VariableName']))\n",
    "    var.setColumnNumber(counter+1) #The column in which the data is stored. Note that LiPD uses index 1\n",
    "    var.setVariableId(generate_unique_id(prefix='PCU')) # create a unique ID for the variable - change prefix if needed\n",
    "    # Units\n",
    "    unit = row['cvUnit'].split('>')[-1]\n",
    "    if unit=='per mil VPDB':\n",
    "        var.setUnits(PaleoUnit.from_synonym('permil'))\n",
    "    else:\n",
    "        var.setUnits(PaleoUnit.from_synonym(unit))\n",
    "    # Make sure the data is JSON writable (no numpy arrays or Pandas DataFrame)\n",
    "    var.setValues(json.dumps(df_data.iloc[:,counter].tolist()))\n",
    "    # Calculate some metadata about the values - this makes it easier to do some queries later on, including looking for data in a particular time slice. \n",
    "    var.setMinValue(float(df_data.iloc[:,counter].min()))\n",
    "    var.setMaxValue(float(df_data.iloc[:,counter].max()))\n",
    "    var.setMeanValue(float(df_data.iloc[:,counter].mean()))\n",
    "    var.setMedianValue(float(df_data.iloc[:,counter].median()))\n",
    "    # Attach the resolution metadata information to the variable\n",
    "    var.setResolution(Res)\n",
    "    # if the variable in d18O, add information about the compilation\n",
    "    if row['VariableName'] == 'd18O':\n",
    "        var.setPartOfCompilation(comp)\n",
    "    else:\n",
    "        print('pass')\n",
    "    # append in the list\n",
    "    variables.append(var) \n",
    "    # add to the counter\n",
    "    counter+=1"
   ]
  },
  {
   "cell_type": "markdown",
   "id": "fb9e910e-c4a9-41ec-a7b5-d235aa07986f",
   "metadata": {},
   "source": [
    "Let’s now put our variables in the `DataTable`:"
   ]
  },
  {
   "cell_type": "code",
   "execution_count": 96,
   "id": "8507a8c2-2c22-4fa8-a774-4edff88f3420",
   "metadata": {},
   "outputs": [],
   "source": [
    "table.setVariables(variables)"
   ]
  },
  {
   "cell_type": "markdown",
   "id": "6199e2e3-0477-4062-9207-bf2c6639fc6b",
   "metadata": {},
   "source": [
    "The `Table` into the `PaleoData` object:"
   ]
  },
  {
   "cell_type": "code",
   "execution_count": 97,
   "id": "2b003b25-c3cd-46f2-b1fb-110549756a76",
   "metadata": {},
   "outputs": [],
   "source": [
    "paleodata.setMeasurementTables([table])"
   ]
  },
  {
   "cell_type": "markdown",
   "id": "ee966203-03a1-4823-8e0a-bda696ccf460",
   "metadata": {},
   "source": [
    "And finally, the `PaleoData` object into the `Dataset`:"
   ]
  },
  {
   "cell_type": "code",
   "execution_count": 99,
   "id": "f1af361e-2543-4c31-ae16-e6fc40c6c8a2",
   "metadata": {},
   "outputs": [],
   "source": [
    "dsl.setPaleoData([paleodata])"
   ]
  },
  {
   "cell_type": "markdown",
   "id": "3cf7ea01-341c-4f45-932e-f67a8d933281",
   "metadata": {},
   "source": [
    "### Writing a LiPD file\n",
    "\n",
    "The last step in this process is to write to a LiPD file. To do so, you need to pass the Dataset `dsl` back into a LiPD object:"
   ]
  },
  {
   "cell_type": "code",
   "execution_count": 100,
   "id": "792a815d-b131-4e23-b2dd-3d6ca68edc57",
   "metadata": {},
   "outputs": [],
   "source": [
    "lipd = LiPD()\n",
    "lipd.load_datasets([dsl])\n",
    "lipd.create_lipd(dsl.getName(), \"../data/Palmyra.Dee.2020.lpd\");"
   ]
  },
  {
   "cell_type": "markdown",
   "id": "5d7f86b1-b2fc-4b4d-81ff-d697187b26d5",
   "metadata": {},
   "source": [
    "## References\n",
    "\n",
    "Dee, S. G., Cobb, K. M., Emile-Geay, J., Ault, T. R., Edwards, R. L., Cheng, H., & Charles, C. D. (2020). No consistent ENSO response to volcanic forcing over the last millennium. Science (New York, N.Y.), 367(6485), 1477–1481. doi:10.1126/science.aax2000. "
   ]
  }
 ],
 "metadata": {
  "kernelspec": {
   "display_name": "Python 3 (ipykernel)",
   "language": "python",
   "name": "python3"
  },
  "language_info": {
   "codemirror_mode": {
    "name": "ipython",
    "version": 3
   },
   "file_extension": ".py",
   "mimetype": "text/x-python",
   "name": "python",
   "nbconvert_exporter": "python",
   "pygments_lexer": "ipython3",
   "version": "3.11.11"
  }
 },
 "nbformat": 4,
 "nbformat_minor": 5
}
