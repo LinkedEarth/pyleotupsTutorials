{
 "cells": [
  {
   "cell_type": "code",
   "execution_count": 1,
   "id": "6a2d9f67-c681-4e54-bd78-8d3ede673a67",
   "metadata": {},
   "outputs": [],
   "source": [
    "from pyleotups import Dataset\n",
    "import pandas as pd\n",
    "\n",
    "# Will need to import the pylipd packages"
   ]
  },
  {
   "cell_type": "code",
   "execution_count": 2,
   "id": "c9e2ad87-9cf2-4a52-abd1-49d8d1a9b5da",
   "metadata": {},
   "outputs": [],
   "source": [
    "ds=Dataset()"
   ]
  },
  {
   "cell_type": "code",
   "execution_count": 3,
   "id": "236f32ad-c2ce-40bf-a440-87970be68bf6",
   "metadata": {},
   "outputs": [
    {
     "name": "stderr",
     "output_type": "stream",
     "text": [
      "Parsing NOAA studies: 100%|████████████████████████████████████████████| 1/1 [00:00<00:00, 2283.24it/s]\n"
     ]
    },
    {
     "data": {
      "text/html": [
       "<div>\n",
       "<style scoped>\n",
       "    .dataframe tbody tr th:only-of-type {\n",
       "        vertical-align: middle;\n",
       "    }\n",
       "\n",
       "    .dataframe tbody tr th {\n",
       "        vertical-align: top;\n",
       "    }\n",
       "\n",
       "    .dataframe thead th {\n",
       "        text-align: right;\n",
       "    }\n",
       "</style>\n",
       "<table border=\"1\" class=\"dataframe\">\n",
       "  <thead>\n",
       "    <tr style=\"text-align: right;\">\n",
       "      <th></th>\n",
       "      <th>StudyID</th>\n",
       "      <th>XMLID</th>\n",
       "      <th>StudyName</th>\n",
       "      <th>DataType</th>\n",
       "      <th>EarliestYearBP</th>\n",
       "      <th>MostRecentYearBP</th>\n",
       "      <th>EarliestYearCE</th>\n",
       "      <th>MostRecentYearCE</th>\n",
       "      <th>StudyNotes</th>\n",
       "      <th>ScienceKeywords</th>\n",
       "      <th>Investigators</th>\n",
       "      <th>Publications</th>\n",
       "      <th>Sites</th>\n",
       "      <th>Funding</th>\n",
       "    </tr>\n",
       "  </thead>\n",
       "  <tbody>\n",
       "    <tr>\n",
       "      <th>0</th>\n",
       "      <td>27490</td>\n",
       "      <td>67635</td>\n",
       "      <td>Palmyra 860 Year Modern and Fossil Coral Oxyge...</td>\n",
       "      <td>CORALS AND SCLEROSPONGES</td>\n",
       "      <td>804</td>\n",
       "      <td>-56</td>\n",
       "      <td>1146</td>\n",
       "      <td>2006</td>\n",
       "      <td>Monthly-resolved coral aragonite oxygen isotop...</td>\n",
       "      <td>None</td>\n",
       "      <td>Sylvia Dee, Kim Cobb, Julien Emile-Geay, Toby ...</td>\n",
       "      <td>[{'Author': 'Sylvia G. Dee, Kim M. Cobb, Julie...</td>\n",
       "      <td>[[{'DataTableID': '41697', 'DataTableName': 'P...</td>\n",
       "      <td>[{'fundingAgency': 'US National Science Founda...</td>\n",
       "    </tr>\n",
       "  </tbody>\n",
       "</table>\n",
       "</div>"
      ],
      "text/plain": [
       "  StudyID  XMLID                                          StudyName  \\\n",
       "0   27490  67635  Palmyra 860 Year Modern and Fossil Coral Oxyge...   \n",
       "\n",
       "                   DataType  EarliestYearBP  MostRecentYearBP  EarliestYearCE  \\\n",
       "0  CORALS AND SCLEROSPONGES             804               -56            1146   \n",
       "\n",
       "   MostRecentYearCE                                         StudyNotes  \\\n",
       "0              2006  Monthly-resolved coral aragonite oxygen isotop...   \n",
       "\n",
       "  ScienceKeywords                                      Investigators  \\\n",
       "0            None  Sylvia Dee, Kim Cobb, Julien Emile-Geay, Toby ...   \n",
       "\n",
       "                                        Publications  \\\n",
       "0  [{'Author': 'Sylvia G. Dee, Kim M. Cobb, Julie...   \n",
       "\n",
       "                                               Sites  \\\n",
       "0  [[{'DataTableID': '41697', 'DataTableName': 'P...   \n",
       "\n",
       "                                             Funding  \n",
       "0  [{'fundingAgency': 'US National Science Founda...  "
      ]
     },
     "execution_count": 3,
     "metadata": {},
     "output_type": "execute_result"
    }
   ],
   "source": [
    "ds.search_studies(noaa_id=27490)"
   ]
  },
  {
   "cell_type": "code",
   "execution_count": 4,
   "id": "8dd333a9-881a-4998-add1-c23cda93c3a9",
   "metadata": {},
   "outputs": [
    {
     "data": {
      "text/html": [
       "<div>\n",
       "<style scoped>\n",
       "    .dataframe tbody tr th:only-of-type {\n",
       "        vertical-align: middle;\n",
       "    }\n",
       "\n",
       "    .dataframe tbody tr th {\n",
       "        vertical-align: top;\n",
       "    }\n",
       "\n",
       "    .dataframe thead th {\n",
       "        text-align: right;\n",
       "    }\n",
       "</style>\n",
       "<table border=\"1\" class=\"dataframe\">\n",
       "  <thead>\n",
       "    <tr style=\"text-align: right;\">\n",
       "      <th></th>\n",
       "      <th>StudyID</th>\n",
       "      <th>XMLID</th>\n",
       "      <th>StudyName</th>\n",
       "      <th>DataType</th>\n",
       "      <th>EarliestYearBP</th>\n",
       "      <th>MostRecentYearBP</th>\n",
       "      <th>EarliestYearCE</th>\n",
       "      <th>MostRecentYearCE</th>\n",
       "      <th>StudyNotes</th>\n",
       "      <th>ScienceKeywords</th>\n",
       "      <th>Investigators</th>\n",
       "      <th>Publications</th>\n",
       "      <th>Sites</th>\n",
       "      <th>Funding</th>\n",
       "    </tr>\n",
       "  </thead>\n",
       "  <tbody>\n",
       "    <tr>\n",
       "      <th>0</th>\n",
       "      <td>27490</td>\n",
       "      <td>67635</td>\n",
       "      <td>Palmyra 860 Year Modern and Fossil Coral Oxyge...</td>\n",
       "      <td>CORALS AND SCLEROSPONGES</td>\n",
       "      <td>804</td>\n",
       "      <td>-56</td>\n",
       "      <td>1146</td>\n",
       "      <td>2006</td>\n",
       "      <td>Monthly-resolved coral aragonite oxygen isotop...</td>\n",
       "      <td>None</td>\n",
       "      <td>Sylvia Dee, Kim Cobb, Julien Emile-Geay, Toby ...</td>\n",
       "      <td>[{'Author': 'Sylvia G. Dee, Kim M. Cobb, Julie...</td>\n",
       "      <td>[[{'DataTableID': '41697', 'DataTableName': 'P...</td>\n",
       "      <td>[{'fundingAgency': 'US National Science Founda...</td>\n",
       "    </tr>\n",
       "  </tbody>\n",
       "</table>\n",
       "</div>"
      ],
      "text/plain": [
       "  StudyID  XMLID                                          StudyName  \\\n",
       "0   27490  67635  Palmyra 860 Year Modern and Fossil Coral Oxyge...   \n",
       "\n",
       "                   DataType  EarliestYearBP  MostRecentYearBP  EarliestYearCE  \\\n",
       "0  CORALS AND SCLEROSPONGES             804               -56            1146   \n",
       "\n",
       "   MostRecentYearCE                                         StudyNotes  \\\n",
       "0              2006  Monthly-resolved coral aragonite oxygen isotop...   \n",
       "\n",
       "  ScienceKeywords                                      Investigators  \\\n",
       "0            None  Sylvia Dee, Kim Cobb, Julien Emile-Geay, Toby ...   \n",
       "\n",
       "                                        Publications  \\\n",
       "0  [{'Author': 'Sylvia G. Dee, Kim M. Cobb, Julie...   \n",
       "\n",
       "                                               Sites  \\\n",
       "0  [[{'DataTableID': '41697', 'DataTableName': 'P...   \n",
       "\n",
       "                                             Funding  \n",
       "0  [{'fundingAgency': 'US National Science Founda...  "
      ]
     },
     "execution_count": 4,
     "metadata": {},
     "output_type": "execute_result"
    }
   ],
   "source": [
    "ds.get_summary()"
   ]
  },
  {
   "cell_type": "code",
   "execution_count": 7,
   "id": "cc4aa713-71ed-4cca-bb6f-1c38ffdf2c45",
   "metadata": {},
   "outputs": [
    {
     "data": {
      "text/html": [
       "<div>\n",
       "<style scoped>\n",
       "    .dataframe tbody tr th:only-of-type {\n",
       "        vertical-align: middle;\n",
       "    }\n",
       "\n",
       "    .dataframe tbody tr th {\n",
       "        vertical-align: top;\n",
       "    }\n",
       "\n",
       "    .dataframe thead th {\n",
       "        text-align: right;\n",
       "    }\n",
       "</style>\n",
       "<table border=\"1\" class=\"dataframe\">\n",
       "  <thead>\n",
       "    <tr style=\"text-align: right;\">\n",
       "      <th></th>\n",
       "      <th>Author</th>\n",
       "      <th>Title</th>\n",
       "      <th>Journal</th>\n",
       "      <th>Year</th>\n",
       "      <th>Volume</th>\n",
       "      <th>Number</th>\n",
       "      <th>Pages</th>\n",
       "      <th>Type</th>\n",
       "      <th>DOI</th>\n",
       "      <th>URL</th>\n",
       "      <th>CitationKey</th>\n",
       "      <th>StudyID</th>\n",
       "      <th>StudyName</th>\n",
       "    </tr>\n",
       "  </thead>\n",
       "  <tbody>\n",
       "    <tr>\n",
       "      <th>0</th>\n",
       "      <td>Sylvia G. Dee, Kim M. Cobb, Julien Emile-Geay,...</td>\n",
       "      <td>No consistent ENSO response to volcanic forcin...</td>\n",
       "      <td>Science</td>\n",
       "      <td>2020</td>\n",
       "      <td>367</td>\n",
       "      <td>6485</td>\n",
       "      <td>1477-1481</td>\n",
       "      <td>publication</td>\n",
       "      <td>10.1126/science.aax2000</td>\n",
       "      <td>http://dx.doi.org/10.1126/science.aax2000</td>\n",
       "      <td>Charles_Consistent_2020_27490</td>\n",
       "      <td>27490</td>\n",
       "      <td>Palmyra 860 Year Modern and Fossil Coral Oxyge...</td>\n",
       "    </tr>\n",
       "  </tbody>\n",
       "</table>\n",
       "</div>"
      ],
      "text/plain": [
       "                                              Author  \\\n",
       "0  Sylvia G. Dee, Kim M. Cobb, Julien Emile-Geay,...   \n",
       "\n",
       "                                               Title  Journal  Year Volume  \\\n",
       "0  No consistent ENSO response to volcanic forcin...  Science  2020    367   \n",
       "\n",
       "  Number      Pages         Type                      DOI  \\\n",
       "0   6485  1477-1481  publication  10.1126/science.aax2000   \n",
       "\n",
       "                                         URL                    CitationKey  \\\n",
       "0  http://dx.doi.org/10.1126/science.aax2000  Charles_Consistent_2020_27490   \n",
       "\n",
       "  StudyID                                          StudyName  \n",
       "0   27490  Palmyra 860 Year Modern and Fossil Coral Oxyge...  "
      ]
     },
     "execution_count": 7,
     "metadata": {},
     "output_type": "execute_result"
    }
   ],
   "source": [
    "bib, df_pub = ds.get_publications()\n",
    "df_pub.head()"
   ]
  },
  {
   "cell_type": "code",
   "execution_count": 9,
   "id": "80c5ca9b-3426-43ed-a26b-5a984cd5157e",
   "metadata": {},
   "outputs": [
    {
     "data": {
      "text/html": [
       "<div>\n",
       "<style scoped>\n",
       "    .dataframe tbody tr th:only-of-type {\n",
       "        vertical-align: middle;\n",
       "    }\n",
       "\n",
       "    .dataframe tbody tr th {\n",
       "        vertical-align: top;\n",
       "    }\n",
       "\n",
       "    .dataframe thead th {\n",
       "        text-align: right;\n",
       "    }\n",
       "</style>\n",
       "<table border=\"1\" class=\"dataframe\">\n",
       "  <thead>\n",
       "    <tr style=\"text-align: right;\">\n",
       "      <th></th>\n",
       "      <th>DataTableID</th>\n",
       "      <th>DataTableName</th>\n",
       "      <th>TimeUnit</th>\n",
       "      <th>FileURL</th>\n",
       "      <th>Variables</th>\n",
       "      <th>FileDescription</th>\n",
       "      <th>TotalFilesAvailable</th>\n",
       "      <th>SiteID</th>\n",
       "      <th>SiteName</th>\n",
       "      <th>LocationName</th>\n",
       "      <th>Latitude</th>\n",
       "      <th>Longitude</th>\n",
       "      <th>MinElevation</th>\n",
       "      <th>MaxElevation</th>\n",
       "      <th>StudyID</th>\n",
       "      <th>StudyName</th>\n",
       "    </tr>\n",
       "  </thead>\n",
       "  <tbody>\n",
       "    <tr>\n",
       "      <th>0</th>\n",
       "      <td>41697</td>\n",
       "      <td>Palmyra2020d18O</td>\n",
       "      <td>CE</td>\n",
       "      <td>https://www.ncei.noaa.gov/pub/data/paleo/coral...</td>\n",
       "      <td>[age, d18O]</td>\n",
       "      <td>NOAA Template File</td>\n",
       "      <td>1</td>\n",
       "      <td>1900</td>\n",
       "      <td>Palmyra Island</td>\n",
       "      <td>Ocean&gt;Pacific Ocean&gt;Central Pacific Ocean</td>\n",
       "      <td>5.8664</td>\n",
       "      <td>-162.12</td>\n",
       "      <td>-9</td>\n",
       "      <td>-9</td>\n",
       "      <td>27490</td>\n",
       "      <td>Palmyra 860 Year Modern and Fossil Coral Oxyge...</td>\n",
       "    </tr>\n",
       "  </tbody>\n",
       "</table>\n",
       "</div>"
      ],
      "text/plain": [
       "  DataTableID    DataTableName TimeUnit  \\\n",
       "0       41697  Palmyra2020d18O       CE   \n",
       "\n",
       "                                             FileURL    Variables  \\\n",
       "0  https://www.ncei.noaa.gov/pub/data/paleo/coral...  [age, d18O]   \n",
       "\n",
       "      FileDescription  TotalFilesAvailable SiteID        SiteName  \\\n",
       "0  NOAA Template File                    1   1900  Palmyra Island   \n",
       "\n",
       "                                LocationName Latitude Longitude MinElevation  \\\n",
       "0  Ocean>Pacific Ocean>Central Pacific Ocean   5.8664   -162.12           -9   \n",
       "\n",
       "  MaxElevation StudyID                                          StudyName  \n",
       "0           -9   27490  Palmyra 860 Year Modern and Fossil Coral Oxyge...  "
      ]
     },
     "execution_count": 9,
     "metadata": {},
     "output_type": "execute_result"
    }
   ],
   "source": [
    "df_tables = ds.get_tables()\n",
    "df_tables"
   ]
  },
  {
   "cell_type": "code",
   "execution_count": 10,
   "id": "da89f99c-0d0d-4fb6-b74d-adb1cdf92553",
   "metadata": {},
   "outputs": [
    {
     "data": {
      "text/html": [
       "<div>\n",
       "<style scoped>\n",
       "    .dataframe tbody tr th:only-of-type {\n",
       "        vertical-align: middle;\n",
       "    }\n",
       "\n",
       "    .dataframe tbody tr th {\n",
       "        vertical-align: top;\n",
       "    }\n",
       "\n",
       "    .dataframe thead th {\n",
       "        text-align: right;\n",
       "    }\n",
       "</style>\n",
       "<table border=\"1\" class=\"dataframe\">\n",
       "  <thead>\n",
       "    <tr style=\"text-align: right;\">\n",
       "      <th></th>\n",
       "      <th>StudyID</th>\n",
       "      <th>DataType</th>\n",
       "      <th>SiteID</th>\n",
       "      <th>SiteName</th>\n",
       "      <th>LocationName</th>\n",
       "      <th>Latitude</th>\n",
       "      <th>Longitude</th>\n",
       "      <th>MinElevation</th>\n",
       "      <th>MaxElevation</th>\n",
       "    </tr>\n",
       "  </thead>\n",
       "  <tbody>\n",
       "    <tr>\n",
       "      <th>0</th>\n",
       "      <td>27490</td>\n",
       "      <td>CORALS AND SCLEROSPONGES</td>\n",
       "      <td>1900</td>\n",
       "      <td>Palmyra Island</td>\n",
       "      <td>Ocean&gt;Pacific Ocean&gt;Central Pacific Ocean</td>\n",
       "      <td>5.8664</td>\n",
       "      <td>-162.12</td>\n",
       "      <td>-9</td>\n",
       "      <td>-9</td>\n",
       "    </tr>\n",
       "  </tbody>\n",
       "</table>\n",
       "</div>"
      ],
      "text/plain": [
       "  StudyID                  DataType SiteID        SiteName  \\\n",
       "0   27490  CORALS AND SCLEROSPONGES   1900  Palmyra Island   \n",
       "\n",
       "                                LocationName Latitude Longitude MinElevation  \\\n",
       "0  Ocean>Pacific Ocean>Central Pacific Ocean   5.8664   -162.12           -9   \n",
       "\n",
       "  MaxElevation  \n",
       "0           -9  "
      ]
     },
     "execution_count": 10,
     "metadata": {},
     "output_type": "execute_result"
    }
   ],
   "source": [
    "df_geo = ds.get_geo()\n",
    "df_geo"
   ]
  },
  {
   "cell_type": "code",
   "execution_count": 11,
   "id": "f3d23191-2603-4b8e-86de-86739bffaffe",
   "metadata": {},
   "outputs": [],
   "source": [
    "dfs = ds.get_data(dataTableIDs=\"41697\")"
   ]
  },
  {
   "cell_type": "code",
   "execution_count": 12,
   "id": "d1fcaa6f-13e9-4616-ae62-cbee72767836",
   "metadata": {},
   "outputs": [
    {
     "data": {
      "text/html": [
       "<div>\n",
       "<style scoped>\n",
       "    .dataframe tbody tr th:only-of-type {\n",
       "        vertical-align: middle;\n",
       "    }\n",
       "\n",
       "    .dataframe tbody tr th {\n",
       "        vertical-align: top;\n",
       "    }\n",
       "\n",
       "    .dataframe thead th {\n",
       "        text-align: right;\n",
       "    }\n",
       "</style>\n",
       "<table border=\"1\" class=\"dataframe\">\n",
       "  <thead>\n",
       "    <tr style=\"text-align: right;\">\n",
       "      <th></th>\n",
       "      <th>age</th>\n",
       "      <th>d18O</th>\n",
       "    </tr>\n",
       "  </thead>\n",
       "  <tbody>\n",
       "    <tr>\n",
       "      <th>0</th>\n",
       "      <td>1146.375</td>\n",
       "      <td>-4.749</td>\n",
       "    </tr>\n",
       "    <tr>\n",
       "      <th>1</th>\n",
       "      <td>1146.4583</td>\n",
       "      <td>-4.672</td>\n",
       "    </tr>\n",
       "    <tr>\n",
       "      <th>2</th>\n",
       "      <td>1146.5417</td>\n",
       "      <td>-4.724</td>\n",
       "    </tr>\n",
       "    <tr>\n",
       "      <th>3</th>\n",
       "      <td>1146.625</td>\n",
       "      <td>-4.717</td>\n",
       "    </tr>\n",
       "    <tr>\n",
       "      <th>4</th>\n",
       "      <td>1146.7083</td>\n",
       "      <td>-4.8947</td>\n",
       "    </tr>\n",
       "  </tbody>\n",
       "</table>\n",
       "</div>"
      ],
      "text/plain": [
       "         age     d18O\n",
       "0   1146.375   -4.749\n",
       "1  1146.4583   -4.672\n",
       "2  1146.5417   -4.724\n",
       "3   1146.625   -4.717\n",
       "4  1146.7083  -4.8947"
      ]
     },
     "execution_count": 12,
     "metadata": {},
     "output_type": "execute_result"
    }
   ],
   "source": [
    "dfs[0].head()"
   ]
  },
  {
   "cell_type": "code",
   "execution_count": 13,
   "id": "651787cf-f7c2-4484-847a-9f2cc5a48c2c",
   "metadata": {},
   "outputs": [
    {
     "data": {
      "text/plain": [
       "{'variables': ['age', 'd18O'],\n",
       " 'NOAAStudyId': '27490',\n",
       " 'StudyName': 'Palmyra 860 Year Modern and Fossil Coral Oxygen Isotope Data'}"
      ]
     },
     "execution_count": 13,
     "metadata": {},
     "output_type": "execute_result"
    }
   ],
   "source": [
    "dfs[0].attrs"
   ]
  },
  {
   "cell_type": "code",
   "execution_count": null,
   "id": "7e7e8e85-16df-4f26-a524-3786ac8efc23",
   "metadata": {},
   "outputs": [],
   "source": []
  }
 ],
 "metadata": {
  "kernelspec": {
   "display_name": "Python 3 (ipykernel)",
   "language": "python",
   "name": "python3"
  },
  "language_info": {
   "codemirror_mode": {
    "name": "ipython",
    "version": 3
   },
   "file_extension": ".py",
   "mimetype": "text/x-python",
   "name": "python",
   "nbconvert_exporter": "python",
   "pygments_lexer": "ipython3",
   "version": "3.11.11"
  }
 },
 "nbformat": 4,
 "nbformat_minor": 5
}
